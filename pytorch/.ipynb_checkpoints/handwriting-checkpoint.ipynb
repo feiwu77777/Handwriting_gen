{
 "cells": [
  {
   "cell_type": "code",
   "execution_count": 0,
   "metadata": {
    "colab": {
     "base_uri": "https://localhost:8080/",
     "height": 34
    },
    "colab_type": "code",
    "executionInfo": {
     "elapsed": 2823,
     "status": "ok",
     "timestamp": 1575818929042,
     "user": {
      "displayName": "Fei Wu",
      "photoUrl": "https://lh3.googleusercontent.com/a-/AAuE7mAArKlAoPDQ2KIYbVfkQcHGXuAfAqw8TOgoAZkutw=s64",
      "userId": "06408669551921134845"
     },
     "user_tz": -60
    },
    "id": "Rb-BGtewLJqj",
    "outputId": "b7d0c346-9894-48b3-fada-217b92c5ebc8"
   },
   "outputs": [
    {
     "data": {
      "text/plain": [
       "<torch._C.Generator at 0x7f1a2b408550>"
      ]
     },
     "execution_count": 2,
     "metadata": {
      "tags": []
     },
     "output_type": "execute_result"
    }
   ],
   "source": [
    "import torch\n",
    "import torch.nn as nn\n",
    "import torch.nn.functional as F\n",
    "import torch.optim as optim\n",
    "import numpy as np\n",
    "from utils import plot_stroke\n",
    "torch.manual_seed(1)"
   ]
  },
  {
   "cell_type": "code",
   "execution_count": null,
   "metadata": {},
   "outputs": [],
   "source": []
  },
  {
   "cell_type": "code",
   "execution_count": null,
   "metadata": {},
   "outputs": [],
   "source": [
    "!wget https://www.dropbox.com/s/enbmh85um2n1p73/strokes-py3.npy"
   ]
  },
  {
   "cell_type": "code",
   "execution_count": 0,
   "metadata": {
    "colab": {},
    "colab_type": "code",
    "id": "BrVNYzOqLwCh"
   },
   "outputs": [],
   "source": [
    "strokes = np.load('strokes-py3.npy', allow_pickle=True)"
   ]
  },
  {
   "cell_type": "code",
   "execution_count": 0,
   "metadata": {
    "colab": {},
    "colab_type": "code",
    "id": "W_9c4Z-WL8XR"
   },
   "outputs": [],
   "source": [
    "class Loader():\n",
    "    def __init__(self, strokes, batch_size, segment_size = 300):\n",
    "        self.bs = batch_size\n",
    "        self.strokes = self.preprocess(strokes)\n",
    "        self.strokes = self.segment_randomness(self.strokes, segment_size)\n",
    "    \n",
    "    def __iter__(self):\n",
    "        for i in range(0, len(self.strokes), self.bs): \n",
    "            batch, masks = self.zero_pad(self.strokes[i:i+self.bs])\n",
    "            batch, masks = torch.from_numpy(batch).type(torch.FloatTensor), torch.from_numpy(masks).type(torch.FloatTensor)\n",
    "            yield batch.cuda(), masks.cuda()\n",
    "    \n",
    "    def preprocess(self, strokes):\n",
    "        strokes = list(strokes)\n",
    "        strokes = sorted(strokes, key = lambda x: len(x), reverse = True)\n",
    "        strokes = np.array(strokes)\n",
    "        return strokes\n",
    "            \n",
    "    def zero_pad(self, batch):\n",
    "        max_len = max([len(x) for x in batch])\n",
    "        masks = np.zeros((self.bs, max_len-1))\n",
    "        padded_batch = np.zeros((self.bs, max_len, 3))\n",
    "        for i in range(len(batch)):\n",
    "            padded_batch[i,:len(batch[i])] = batch[i]\n",
    "            masks[i,:len(batch[i])] = 1\n",
    "        return padded_batch, masks\n",
    "    \n",
    "    def segment_randomness(self, strokes, segment_size):\n",
    "        index = []\n",
    "        for i in range(len(strokes)//segment_size):\n",
    "            l = [j+i*segment_size for j in range(segment_size)]\n",
    "            index.extend(list(np.random.permutation(l)))\n",
    "        strokes = strokes[index]  \n",
    "        return strokes"
   ]
  },
  {
   "cell_type": "code",
   "execution_count": 0,
   "metadata": {
    "colab": {},
    "colab_type": "code",
    "id": "6zMDDLUNL8Z3"
   },
   "outputs": [],
   "source": [
    "class Model(nn.Module):\n",
    "    def __init__(self, cell_size):\n",
    "        super(Model, self).__init__()\n",
    "        self.lstm1 = nn.LSTM(input_size = 3, hidden_size = cell_size,\\\n",
    "                                num_layers = 1, batch_first=True)\n",
    "        self.lstm2 = nn.LSTM(input_size = cell_size+3, hidden_size = cell_size,\\\n",
    "                                num_layers = 1, batch_first=True)\n",
    "        self.linear = nn.Linear(cell_size*2, 121)\n",
    "        self.tanh = nn.Tanh()\n",
    "        \n",
    "    def forward(self, x, h1, h2):\n",
    "\n",
    "        out1, (h1, c1) = self.lstm1(x, h1)\n",
    "        out2, (h2, c2) = self.lstm2(torch.cat([h1, out1], dim=-1), h2)\n",
    "        y_hat = self.linear(torch.cat([h1, h2], dim=-1))\n",
    "\n",
    "        return y_hat\n",
    "\n",
    "    def loss(self, y_hat, y, masks):\n",
    "        mog_params = y_hat.narrow(-1, 0, y_hat.size()[-1]-1)\n",
    "        pre_weights, mu_1, mu_2, log_sigma_1, log_sigma_2, pre_rho = mog_params.chunk(6, dim=-1)\n",
    "        weights = F.softmax(pre_weights, dim=-1)\n",
    "        rho = self.tanh(pre_rho)\n",
    "        end = torch.sigmoid(y_hat.narrow(-1, y_hat.size()[-1]-1, 1))\n",
    "        # targets\n",
    "        y_0 = y.narrow(-1,0,1)\n",
    "        y_1 = y.narrow(-1,1,1)\n",
    "        y_2 = y.narrow(-1,2,1)\n",
    "        \n",
    "        # end of stroke prediction\n",
    "        end_loglik = (y_0*end + (1-y_0)*(1-end)).log().squeeze()\n",
    "        \n",
    "        # new stroke point prediction\n",
    "        const = 1e-20 # to prevent numerical error\n",
    "        pi_term = torch.Tensor([2*np.pi])\n",
    "        pi_term = pi_term.cuda()\n",
    "        pi_term = -Variable(pi_term, requires_grad = False).log()\n",
    "        \n",
    "        z = (y_1 - mu_1)**2/(log_sigma_1.exp()**2)\\\n",
    "            + ((y_2 - mu_2)**2/(log_sigma_2.exp()**2)) \\\n",
    "            - 2*rho*(y_1-mu_1)*(y_2-mu_2)/((log_sigma_1 + log_sigma_2).exp())\n",
    "        \n",
    "        mog_lik1 =  pi_term -log_sigma_1 - log_sigma_2 - 0.5*((1-rho**2).log())\n",
    "        mog_lik2 = z/(2*(1-rho**2))\n",
    "        mog_loglik = ((weights.log() + (mog_lik1 - mog_lik2)).exp().sum(dim=-1)+const).log()\n",
    "    \n",
    "        return (end_loglik*masks).sum() + ((mog_loglik)*masks).sum()\n",
    "\n",
    "    def init_states(self):\n",
    "        init_states = [torch.zeros((1, self.bs, self.cell_size)).cuda()]*4\n",
    "        return init_states"
   ]
  },
  {
   "cell_type": "code",
   "execution_count": 0,
   "metadata": {
    "colab": {},
    "colab_type": "code",
    "id": "4KUL3JLuL8g1"
   },
   "outputs": [],
   "source": [
    "model = LSTMRandWriter(400, 20)\n",
    "h1_init, c1_init, h2_init, c2_init = model.init_states()\n",
    "model = model.cuda()\n",
    "optimizer = optim.Adam([{'params':model.parameters()},], lr=8e-4)"
   ]
  },
  {
   "cell_type": "code",
   "execution_count": 0,
   "metadata": {
    "colab": {},
    "colab_type": "code",
    "id": "NnfMxRd1dFQ5"
   },
   "outputs": [],
   "source": []
  },
  {
   "cell_type": "markdown",
   "metadata": {
    "colab_type": "text",
    "id": "U8Zah6AFdqAR"
   },
   "source": [
    "Training"
   ]
  },
  {
   "cell_type": "code",
   "execution_count": 0,
   "metadata": {
    "colab": {
     "base_uri": "https://localhost:8080/",
     "height": 1000
    },
    "colab_type": "code",
    "collapsed": true,
    "executionInfo": {
     "elapsed": 2155618,
     "status": "ok",
     "timestamp": 1575822859950,
     "user": {
      "displayName": "Fei Wu",
      "photoUrl": "https://lh3.googleusercontent.com/a-/AAuE7mAArKlAoPDQ2KIYbVfkQcHGXuAfAqw8TOgoAZkutw=s64",
      "userId": "06408669551921134845"
     },
     "user_tz": -60
    },
    "id": "bwC39jv1MSew",
    "outputId": "477e95c0-7bed-4aba-8d94-b3d7e5b7689e"
   },
   "outputs": [
    {
     "name": "stdout",
     "output_type": "stream",
     "text": [
      "Train Epoch: 1 [0/200]\tLoss: 3.753873\n",
      "Train Epoch: 1 [50/200]\tLoss: 1.896481\n",
      "Train Epoch: 1 [100/200]\tLoss: 0.865327\n",
      "Train Epoch: 1 [150/200]\tLoss: 0.815439\n",
      "====> Epoch: 1 Average train loss: 1.2771\n",
      "Train Epoch: 2 [0/200]\tLoss: 0.128263\n",
      "Train Epoch: 2 [50/200]\tLoss: 0.331077\n",
      "Train Epoch: 2 [100/200]\tLoss: 0.453745\n",
      "Train Epoch: 2 [150/200]\tLoss: 0.446374\n",
      "====> Epoch: 2 Average train loss: 0.3949\n",
      "Train Epoch: 3 [0/200]\tLoss: 0.009686\n",
      "Train Epoch: 3 [50/200]\tLoss: 0.096299\n",
      "Train Epoch: 3 [100/200]\tLoss: 0.374041\n",
      "Train Epoch: 3 [150/200]\tLoss: 0.309979\n",
      "====> Epoch: 3 Average train loss: 0.2821\n",
      "Train Epoch: 4 [0/200]\tLoss: -0.215716\n",
      "Train Epoch: 4 [50/200]\tLoss: 0.105853\n",
      "Train Epoch: 4 [100/200]\tLoss: 0.233240\n",
      "Train Epoch: 4 [150/200]\tLoss: 0.261690\n",
      "====> Epoch: 4 Average train loss: 0.1987\n",
      "Train Epoch: 5 [0/200]\tLoss: -0.145315\n",
      "Train Epoch: 5 [50/200]\tLoss: -0.018750\n",
      "Train Epoch: 5 [100/200]\tLoss: 0.162372\n",
      "Train Epoch: 5 [150/200]\tLoss: 0.263637\n",
      "====> Epoch: 5 Average train loss: 0.1360\n",
      "Train Epoch: 6 [0/200]\tLoss: -0.161573\n",
      "Train Epoch: 6 [50/200]\tLoss: -0.064504\n",
      "Train Epoch: 6 [100/200]\tLoss: 0.099085\n",
      "Train Epoch: 6 [150/200]\tLoss: 0.233482\n",
      "====> Epoch: 6 Average train loss: 0.1027\n",
      "Train Epoch: 7 [0/200]\tLoss: -0.254080\n",
      "Train Epoch: 7 [50/200]\tLoss: -0.031628\n",
      "Train Epoch: 7 [100/200]\tLoss: 0.149986\n",
      "Train Epoch: 7 [150/200]\tLoss: 0.324886\n",
      "====> Epoch: 7 Average train loss: 0.0578\n",
      "Train Epoch: 8 [0/200]\tLoss: -0.348773\n",
      "Train Epoch: 8 [50/200]\tLoss: -0.158906\n",
      "Train Epoch: 8 [100/200]\tLoss: 0.076782\n",
      "Train Epoch: 8 [150/200]\tLoss: 0.266798\n",
      "====> Epoch: 8 Average train loss: 0.0257\n",
      "Train Epoch: 9 [0/200]\tLoss: -0.340020\n",
      "Train Epoch: 9 [50/200]\tLoss: -0.200739\n",
      "Train Epoch: 9 [100/200]\tLoss: 0.010040\n",
      "Train Epoch: 9 [150/200]\tLoss: 0.216147\n",
      "====> Epoch: 9 Average train loss: -0.0052\n",
      "Train Epoch: 10 [0/200]\tLoss: -0.417572\n",
      "Train Epoch: 10 [50/200]\tLoss: -0.138375\n",
      "Train Epoch: 10 [100/200]\tLoss: 0.008518\n",
      "Train Epoch: 10 [150/200]\tLoss: 0.153545\n",
      "====> Epoch: 10 Average train loss: -0.0326\n",
      "Train Epoch: 11 [0/200]\tLoss: -0.461296\n",
      "Train Epoch: 11 [50/200]\tLoss: -0.270085\n",
      "Train Epoch: 11 [100/200]\tLoss: -0.087627\n",
      "Train Epoch: 11 [150/200]\tLoss: 0.127457\n",
      "====> Epoch: 11 Average train loss: -0.0681\n",
      "Train Epoch: 12 [0/200]\tLoss: -0.485094\n",
      "Train Epoch: 12 [50/200]\tLoss: -0.221087\n",
      "Train Epoch: 12 [100/200]\tLoss: 0.013090\n",
      "Train Epoch: 12 [150/200]\tLoss: 0.176945\n",
      "====> Epoch: 12 Average train loss: -0.0885\n",
      "Train Epoch: 13 [0/200]\tLoss: -0.472093\n",
      "Train Epoch: 13 [50/200]\tLoss: -0.239139\n",
      "Train Epoch: 13 [100/200]\tLoss: 0.013797\n",
      "Train Epoch: 13 [150/200]\tLoss: 0.084335\n",
      "====> Epoch: 13 Average train loss: -0.1062\n",
      "Train Epoch: 14 [0/200]\tLoss: -0.501582\n",
      "Train Epoch: 14 [50/200]\tLoss: -0.327495\n",
      "Train Epoch: 14 [100/200]\tLoss: 0.017055\n",
      "Train Epoch: 14 [150/200]\tLoss: -0.001930\n",
      "====> Epoch: 14 Average train loss: -0.1212\n",
      "Train Epoch: 15 [0/200]\tLoss: -0.489148\n",
      "Train Epoch: 15 [50/200]\tLoss: -0.196347\n",
      "Train Epoch: 15 [100/200]\tLoss: -0.080158\n",
      "Train Epoch: 15 [150/200]\tLoss: 0.055262\n",
      "====> Epoch: 15 Average train loss: -0.1351\n",
      "Train Epoch: 16 [0/200]\tLoss: -0.546201\n",
      "Train Epoch: 16 [50/200]\tLoss: -0.291244\n",
      "Train Epoch: 16 [100/200]\tLoss: -0.147564\n",
      "Train Epoch: 16 [150/200]\tLoss: -0.048441\n",
      "====> Epoch: 16 Average train loss: -0.1563\n",
      "Train Epoch: 17 [0/200]\tLoss: -0.537351\n",
      "Train Epoch: 17 [50/200]\tLoss: -0.281415\n",
      "Train Epoch: 17 [100/200]\tLoss: -0.094557\n",
      "Train Epoch: 17 [150/200]\tLoss: -0.072818\n",
      "====> Epoch: 17 Average train loss: -0.1734\n",
      "Train Epoch: 18 [0/200]\tLoss: -0.574941\n",
      "Train Epoch: 18 [50/200]\tLoss: -0.294289\n",
      "Train Epoch: 18 [100/200]\tLoss: -0.142363\n",
      "Train Epoch: 18 [150/200]\tLoss: -0.020375\n",
      "====> Epoch: 18 Average train loss: -0.1859\n",
      "Train Epoch: 19 [0/200]\tLoss: -0.598709\n",
      "Train Epoch: 19 [50/200]\tLoss: -0.347854\n",
      "Train Epoch: 19 [100/200]\tLoss: -0.189327\n",
      "Train Epoch: 19 [150/200]\tLoss: 0.031201\n",
      "====> Epoch: 19 Average train loss: -0.2007\n",
      "Train Epoch: 20 [0/200]\tLoss: -0.620592\n",
      "Train Epoch: 20 [50/200]\tLoss: -0.320940\n",
      "Train Epoch: 20 [100/200]\tLoss: -0.170502\n",
      "Train Epoch: 20 [150/200]\tLoss: -0.037970\n",
      "====> Epoch: 20 Average train loss: -0.2098\n",
      "Train Epoch: 21 [0/200]\tLoss: -0.683372\n",
      "Train Epoch: 21 [50/200]\tLoss: -0.330124\n",
      "Train Epoch: 21 [100/200]\tLoss: -0.127784\n",
      "Train Epoch: 21 [150/200]\tLoss: -0.102869\n",
      "====> Epoch: 21 Average train loss: -0.2222\n",
      "Train Epoch: 22 [0/200]\tLoss: -0.653719\n",
      "Train Epoch: 22 [50/200]\tLoss: -0.397459\n",
      "Train Epoch: 22 [100/200]\tLoss: -0.100150\n",
      "Train Epoch: 22 [150/200]\tLoss: -0.030723\n",
      "====> Epoch: 22 Average train loss: -0.2336\n",
      "Train Epoch: 23 [0/200]\tLoss: -0.628697\n",
      "Train Epoch: 23 [50/200]\tLoss: -0.364111\n",
      "Train Epoch: 23 [100/200]\tLoss: -0.215182\n",
      "Train Epoch: 23 [150/200]\tLoss: 0.057363\n",
      "====> Epoch: 23 Average train loss: -0.2411\n",
      "Train Epoch: 24 [0/200]\tLoss: -0.662532\n",
      "Train Epoch: 24 [50/200]\tLoss: -0.379630\n",
      "Train Epoch: 24 [100/200]\tLoss: -0.193090\n",
      "Train Epoch: 24 [150/200]\tLoss: -0.142819\n",
      "====> Epoch: 24 Average train loss: -0.2494\n",
      "Train Epoch: 25 [0/200]\tLoss: -0.663455\n",
      "Train Epoch: 25 [50/200]\tLoss: -0.427030\n",
      "Train Epoch: 25 [100/200]\tLoss: -0.123904\n",
      "Train Epoch: 25 [150/200]\tLoss: -0.059334\n",
      "====> Epoch: 25 Average train loss: -0.2577\n",
      "Train Epoch: 26 [0/200]\tLoss: -0.648386\n",
      "Train Epoch: 26 [50/200]\tLoss: -0.341706\n",
      "Train Epoch: 26 [100/200]\tLoss: -0.270091\n",
      "Train Epoch: 26 [150/200]\tLoss: 0.057891\n",
      "====> Epoch: 26 Average train loss: -0.2617\n",
      "Train Epoch: 27 [0/200]\tLoss: -0.689721\n",
      "Train Epoch: 27 [50/200]\tLoss: -0.517831\n",
      "Train Epoch: 27 [100/200]\tLoss: -0.172633\n",
      "Train Epoch: 27 [150/200]\tLoss: 0.026408\n",
      "====> Epoch: 27 Average train loss: -0.2703\n",
      "Train Epoch: 28 [0/200]\tLoss: -0.679644\n",
      "Train Epoch: 28 [50/200]\tLoss: -0.369751\n",
      "Train Epoch: 28 [100/200]\tLoss: -0.147298\n",
      "Train Epoch: 28 [150/200]\tLoss: -0.068653\n",
      "====> Epoch: 28 Average train loss: -0.2748\n",
      "Train Epoch: 29 [0/200]\tLoss: -0.697547\n",
      "Train Epoch: 29 [50/200]\tLoss: -0.285215\n",
      "Train Epoch: 29 [100/200]\tLoss: -0.173252\n",
      "Train Epoch: 29 [150/200]\tLoss: -0.172384\n",
      "====> Epoch: 29 Average train loss: -0.2834\n",
      "Train Epoch: 30 [0/200]\tLoss: -0.619016\n",
      "Train Epoch: 30 [50/200]\tLoss: -0.304797\n",
      "Train Epoch: 30 [100/200]\tLoss: -0.278085\n",
      "Train Epoch: 30 [150/200]\tLoss: -0.269327\n",
      "====> Epoch: 30 Average train loss: -0.2784\n",
      "Train Epoch: 31 [0/200]\tLoss: -0.732177\n",
      "Train Epoch: 31 [50/200]\tLoss: -0.498167\n",
      "Train Epoch: 31 [100/200]\tLoss: -0.307563\n",
      "Train Epoch: 31 [150/200]\tLoss: -0.127607\n",
      "====> Epoch: 31 Average train loss: -0.2965\n",
      "Train Epoch: 32 [0/200]\tLoss: -0.688564\n",
      "Train Epoch: 32 [50/200]\tLoss: -0.395899\n",
      "Train Epoch: 32 [100/200]\tLoss: -0.213320\n",
      "Train Epoch: 32 [150/200]\tLoss: -0.070582\n",
      "====> Epoch: 32 Average train loss: -0.2896\n",
      "Train Epoch: 33 [0/200]\tLoss: -0.699055\n",
      "Train Epoch: 33 [50/200]\tLoss: -0.442823\n",
      "Train Epoch: 33 [100/200]\tLoss: -0.254236\n",
      "Train Epoch: 33 [150/200]\tLoss: -0.167309\n",
      "====> Epoch: 33 Average train loss: -0.3068\n",
      "Train Epoch: 34 [0/200]\tLoss: -0.687737\n",
      "Train Epoch: 34 [50/200]\tLoss: -0.433396\n",
      "Train Epoch: 34 [100/200]\tLoss: -0.113136\n",
      "Train Epoch: 34 [150/200]\tLoss: -0.125185\n",
      "====> Epoch: 34 Average train loss: -0.2967\n",
      "Train Epoch: 35 [0/200]\tLoss: -0.544298\n",
      "Train Epoch: 35 [50/200]\tLoss: -0.452610\n",
      "Train Epoch: 35 [100/200]\tLoss: -0.198481\n",
      "Train Epoch: 35 [150/200]\tLoss: -0.091066\n",
      "====> Epoch: 35 Average train loss: -0.3116\n",
      "Train Epoch: 36 [0/200]\tLoss: -0.693482\n",
      "Train Epoch: 36 [50/200]\tLoss: -0.423366\n",
      "Train Epoch: 36 [100/200]\tLoss: -0.379156\n",
      "Train Epoch: 36 [150/200]\tLoss: -0.209825\n",
      "====> Epoch: 36 Average train loss: -0.3166\n",
      "Train Epoch: 37 [0/200]\tLoss: -0.726607\n",
      "Train Epoch: 37 [50/200]\tLoss: -0.504226\n",
      "Train Epoch: 37 [100/200]\tLoss: -0.184246\n",
      "Train Epoch: 37 [150/200]\tLoss: -0.171610\n",
      "====> Epoch: 37 Average train loss: -0.3252\n",
      "Train Epoch: 38 [0/200]\tLoss: -0.724117\n",
      "Train Epoch: 38 [50/200]\tLoss: -0.487995\n",
      "Train Epoch: 38 [100/200]\tLoss: -0.258813\n",
      "Train Epoch: 38 [150/200]\tLoss: -0.118391\n",
      "====> Epoch: 38 Average train loss: -0.3329\n",
      "Train Epoch: 39 [0/200]\tLoss: -0.769478\n",
      "Train Epoch: 39 [50/200]\tLoss: -0.480838\n",
      "Train Epoch: 39 [100/200]\tLoss: -0.142646\n",
      "Train Epoch: 39 [150/200]\tLoss: -0.186479\n",
      "====> Epoch: 39 Average train loss: -0.2444\n",
      "Train Epoch: 40 [0/200]\tLoss: -0.586077\n",
      "Train Epoch: 40 [50/200]\tLoss: -0.330816\n",
      "Train Epoch: 40 [100/200]\tLoss: -0.228828\n",
      "Train Epoch: 40 [150/200]\tLoss: -0.243899\n",
      "====> Epoch: 40 Average train loss: -0.2942\n",
      "Train Epoch: 41 [0/200]\tLoss: -0.663212\n",
      "Train Epoch: 41 [50/200]\tLoss: -0.382377\n",
      "Train Epoch: 41 [100/200]\tLoss: -0.176852\n",
      "Train Epoch: 41 [150/200]\tLoss: -0.159723\n",
      "====> Epoch: 41 Average train loss: -0.3073\n",
      "Train Epoch: 42 [0/200]\tLoss: -0.790489\n",
      "Train Epoch: 42 [50/200]\tLoss: -0.417005\n",
      "Train Epoch: 42 [100/200]\tLoss: -0.231208\n",
      "Train Epoch: 42 [150/200]\tLoss: -0.263935\n",
      "====> Epoch: 42 Average train loss: -0.3239\n",
      "Train Epoch: 43 [0/200]\tLoss: -0.715678\n",
      "Train Epoch: 43 [50/200]\tLoss: -0.450971\n",
      "Train Epoch: 43 [100/200]\tLoss: -0.340519\n",
      "Train Epoch: 43 [150/200]\tLoss: -0.168625\n",
      "====> Epoch: 43 Average train loss: -0.3495\n",
      "Train Epoch: 44 [0/200]\tLoss: -0.689251\n",
      "Train Epoch: 44 [50/200]\tLoss: -0.527006\n",
      "Train Epoch: 44 [100/200]\tLoss: -0.339518\n",
      "Train Epoch: 44 [150/200]\tLoss: -0.202498\n",
      "====> Epoch: 44 Average train loss: -0.3566\n",
      "Train Epoch: 45 [0/200]\tLoss: -0.671699\n",
      "Train Epoch: 45 [50/200]\tLoss: -0.410769\n",
      "Train Epoch: 45 [100/200]\tLoss: -0.299720\n",
      "Train Epoch: 45 [150/200]\tLoss: -0.178688\n",
      "====> Epoch: 45 Average train loss: -0.3608\n",
      "Train Epoch: 46 [0/200]\tLoss: -0.745368\n",
      "Train Epoch: 46 [50/200]\tLoss: -0.452682\n",
      "Train Epoch: 46 [100/200]\tLoss: -0.260613\n",
      "Train Epoch: 46 [150/200]\tLoss: -0.321855\n",
      "====> Epoch: 46 Average train loss: -0.3632\n",
      "Train Epoch: 47 [0/200]\tLoss: -0.724743\n",
      "Train Epoch: 47 [50/200]\tLoss: -0.553408\n",
      "Train Epoch: 47 [100/200]\tLoss: -0.213029\n",
      "Train Epoch: 47 [150/200]\tLoss: -0.242234\n",
      "====> Epoch: 47 Average train loss: -0.3726\n",
      "Train Epoch: 48 [0/200]\tLoss: -0.702735\n",
      "Train Epoch: 48 [50/200]\tLoss: -0.495265\n",
      "Train Epoch: 48 [100/200]\tLoss: -0.323689\n",
      "Train Epoch: 48 [150/200]\tLoss: -0.183624\n",
      "====> Epoch: 48 Average train loss: -0.3773\n",
      "Train Epoch: 49 [0/200]\tLoss: -0.706309\n",
      "Train Epoch: 49 [50/200]\tLoss: -0.497225\n",
      "Train Epoch: 49 [100/200]\tLoss: -0.361591\n",
      "Train Epoch: 49 [150/200]\tLoss: -0.306652\n",
      "====> Epoch: 49 Average train loss: -0.3784\n",
      "Train Epoch: 50 [0/200]\tLoss: -0.824738\n",
      "Train Epoch: 50 [50/200]\tLoss: -0.212123\n",
      "Train Epoch: 50 [100/200]\tLoss: -0.182411\n",
      "Train Epoch: 50 [150/200]\tLoss: -0.115302\n",
      "====> Epoch: 50 Average train loss: -0.2556\n"
     ]
    }
   ],
   "source": [
    "t_loss = []\n",
    "for epoch in range(50):\n",
    "    train_loss = 0\n",
    "    for batch_idx, (data, masks) in enumerate(Loader(strokes, 30)):\n",
    "\n",
    "        # gather training batch\n",
    "        x = data[:,:-1,:]\n",
    "        y = data[:,1:,:]\n",
    "\n",
    "        optimizer.zero_grad()\n",
    "        # feed forward\n",
    "        outputs = model(x, (h1_init, c1_init), (h2_init, c2_init))\n",
    "        end, weights, mu_1, mu_2, log_sigma_1, log_sigma_2, rho , prev, prev2 = outputs\n",
    "                \n",
    "        loss = -log_likelihood(end, weights, mu_1, mu_2, log_sigma_1, log_sigma_2, rho, y, masks)/torch.sum(masks)\n",
    "        loss.backward()\n",
    "        train_loss += loss.item()\n",
    "        optimizer.step()\n",
    "        \n",
    "        if batch_idx%50==0:\n",
    "          print('Train Epoch: {} [{}/{}]\\tLoss: {:.6f}'.format(epoch+1, batch_idx,  200, loss.item()))\n",
    "\n",
    "    print('====> Epoch: {} Average train loss: {:.4f}'.format(epoch+1, train_loss/200))\n",
    "    t_loss.append(train_loss/200)"
   ]
  },
  {
   "cell_type": "code",
   "execution_count": 0,
   "metadata": {
    "colab": {},
    "colab_type": "code",
    "id": "1cSXOy7zH0Cg"
   },
   "outputs": [],
   "source": []
  },
  {
   "cell_type": "markdown",
   "metadata": {
    "colab_type": "text",
    "id": "9Nv-1ZYHdtUO"
   },
   "source": [
    "Generation"
   ]
  },
  {
   "cell_type": "code",
   "execution_count": 0,
   "metadata": {
    "colab": {},
    "colab_type": "code",
    "id": "6XfnzC37MShW"
   },
   "outputs": [],
   "source": [
    "zero_tensor = torch.zeros((1,1,3))\n",
    "init_states = [torch.zeros((1,1, 400))]*4\n",
    "zero_tensor = zero_tensor.cuda()\n",
    "\n",
    "x = Variable(zero_tensor)\n",
    "init_states  = [Variable(state, requires_grad = False) for state in init_states]\n",
    "init_states  = [state.cuda() for state in init_states]\n",
    "h1_init, c1_init, h2_init, c2_init = init_states\n",
    "prev = (h1_init, c1_init)\n",
    "prev2 = (h2_init, c2_init)"
   ]
  },
  {
   "cell_type": "code",
   "execution_count": 0,
   "metadata": {
    "colab": {},
    "colab_type": "code",
    "id": "SBY6szAdbJW-"
   },
   "outputs": [],
   "source": [
    "record = [np.array([0,0,0])]"
   ]
  },
  {
   "cell_type": "code",
   "execution_count": 0,
   "metadata": {
    "colab": {},
    "colab_type": "code",
    "id": "TnKjMEtAbJZV"
   },
   "outputs": [],
   "source": [
    "for i in range(500):        \n",
    "\n",
    "    end, weights, mu_1, mu_2, log_sigma_1, log_sigma_2, p, prev, prev2 = model(x, prev, prev2)\n",
    "\n",
    "    # sample end stroke indicator\n",
    "    prob_end = end.item()        \n",
    "    sample_end = np.random.binomial(1,prob_end)\n",
    "    index = np.random.choice(range(20),p = weights.data[0][0].cpu().numpy())\n",
    "\n",
    "    mu = np.array([mu_1.data[0][0][index].item(), mu_2.data[0][0][index].item()])\n",
    "\n",
    "    v1 = log_sigma_1.exp().data[0][0][index]**2\n",
    "    v2 = log_sigma_2.exp().data[0][0][index]**2\n",
    "    c = p.data[0][0][index]*log_sigma_1.exp().data[0][0][index]*log_sigma_2.exp().data[0][0][index]\n",
    "\n",
    "    cov = np.array([[v1.item(),c.item()],[c.item(),v2.item()]])\n",
    "    sample_point = np.random.multivariate_normal(mu, cov)\n",
    "\n",
    "    out = np.insert(sample_point, 0, sample_end)\n",
    "    record.append(out)\n",
    "\n",
    "    x = torch.from_numpy(out).type(torch.FloatTensor)\n",
    "    x = x.cuda()\n",
    "    x = Variable(x, requires_grad=False)\n",
    "    x = x.view((1,1,3))"
   ]
  },
  {
   "cell_type": "code",
   "execution_count": 0,
   "metadata": {
    "colab": {
     "base_uri": "https://localhost:8080/",
     "height": 326
    },
    "colab_type": "code",
    "executionInfo": {
     "elapsed": 2288,
     "status": "ok",
     "timestamp": 1575823019258,
     "user": {
      "displayName": "Fei Wu",
      "photoUrl": "https://lh3.googleusercontent.com/a-/AAuE7mAArKlAoPDQ2KIYbVfkQcHGXuAfAqw8TOgoAZkutw=s64",
      "userId": "06408669551921134845"
     },
     "user_tz": -60
    },
    "id": "a4QCc__qbJUV",
    "outputId": "7fbfd709-9e23-4991-b5e4-3d3a91a093ea"
   },
   "outputs": [
    {
     "data": {
      "image/png": "[encoded data removed]",
      "text/plain": [
       "<Figure size 2327.24x360 with 1 Axes>"
      ]
     },
     "metadata": {
      "tags": []
     },
     "output_type": "display_data"
    }
   ],
   "source": [
    "plot_stroke(np.array(record))"
   ]
  },
  {
   "cell_type": "code",
   "execution_count": 0,
   "metadata": {
    "colab": {},
    "colab_type": "code",
    "id": "OlnrdqNeb4Rs"
   },
   "outputs": [],
   "source": []
  }
 ],
 "metadata": {
  "accelerator": "GPU",
  "colab": {
   "collapsed_sections": [],
   "name": "handwriting.ipynb",
   "provenance": []
  },
  "kernelspec": {
   "display_name": "Python 3",
   "language": "python",
   "name": "python3"
  },
  "language_info": {
   "codemirror_mode": {
    "name": "ipython",
    "version": 3
   },
   "file_extension": ".py",
   "mimetype": "text/x-python",
   "name": "python",
   "nbconvert_exporter": "python",
   "pygments_lexer": "ipython3",
   "version": "3.7.3"
  }
 },
 "nbformat": 4,
 "nbformat_minor": 1
}
